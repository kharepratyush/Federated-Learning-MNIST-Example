{
 "cells": [
  {
   "cell_type": "code",
   "execution_count": 8,
   "id": "beee70d6",
   "metadata": {
    "ExecuteTime": {
     "end_time": "2022-06-24T18:33:07.488110Z",
     "start_time": "2022-06-24T18:33:07.476894Z"
    }
   },
   "outputs": [],
   "source": [
    "import keras\n",
    "# ^^^ pyforest auto-imports - don't write above this line"
   ]
  },
  {
   "cell_type": "code",
   "execution_count": 9,
   "id": "0e0c4836",
   "metadata": {
    "ExecuteTime": {
     "end_time": "2022-06-24T19:38:44.609622Z",
     "start_time": "2022-06-24T19:38:44.546242Z"
    }
   },
   "outputs": [],
   "source": [
    "from __future__ import print_function\n",
    "\n",
    "import keras\n",
    "from keras.datasets import mnist\n",
    "from keras.models import Sequential\n",
    "from keras.layers import Dense, Dropout, Flatten\n",
    "from keras.layers import Conv2D, MaxPooling2D\n",
    "\n",
    "import numpy as np\n",
    "import glob\n",
    "\n",
    "num_classes = 10\n",
    "img_rows, img_cols = 28, 28\n",
    "input_shape = (img_rows, img_cols, 1)"
   ]
  },
  {
   "cell_type": "code",
   "execution_count": 10,
   "id": "971c0cee",
   "metadata": {
    "ExecuteTime": {
     "end_time": "2022-06-24T19:38:44.609622Z",
     "start_time": "2022-06-24T19:38:44.546242Z"
    }
   },
   "outputs": [],
   "source": [
    "def process_data():\n",
    "    (x_train, y_train), (x_test, y_test) = mnist.load_data()\n",
    "    x_train = x_train.reshape(x_train.shape[0], img_rows, img_cols, 1)\n",
    "    x_test = x_test.reshape(x_test.shape[0], img_rows, img_cols, 1)\n",
    "    x_train = x_train.astype('float32')\n",
    "    x_test = x_test.astype('float32')\n",
    "    x_train /= 255\n",
    "    x_test /= 255\n",
    "\n",
    "    print(x_test.shape[0], 'test samples')\n",
    "\n",
    "    y_train = keras.utils.np_utils.to_categorical(y_train, num_classes)\n",
    "    y_test = keras.utils.np_utils.to_categorical(y_test, num_classes)\n",
    "\n",
    "    return x_train, x_test, y_train, y_test\n",
    "\n",
    "def build_model(avg = None):\n",
    "    model = Sequential()\n",
    "    model.add(Conv2D(32, kernel_size=(3, 3),\n",
    "                     activation='relu',\n",
    "                     input_shape=input_shape))\n",
    "    model.add(Conv2D(64, (3, 3), activation='relu'))\n",
    "    model.add(MaxPooling2D(pool_size=(2, 2)))\n",
    "    model.add(Dropout(0.25))\n",
    "    model.add(Flatten())\n",
    "    model.add(Dense(128, activation='relu'))\n",
    "    model.add(Dropout(0.5))\n",
    "    model.add(Dense(num_classes, activation='softmax'))\n",
    "\n",
    "    if avg:\n",
    "        model.set_weights(avg)\n",
    "\n",
    "    model.compile(loss=keras.losses.categorical_crossentropy,\n",
    "                  optimizer=\"adam\",\n",
    "                  metrics=['accuracy'])\n",
    "\n",
    "    return model\n",
    "    \n",
    "def evaluate_model(model, x_test, y_test):\n",
    "    score = model.evaluate(x_test, y_test, verbose=0)\n",
    "    print('Test loss:', score[0])\n",
    "    print('Test accuracy:', score[1])\n",
    "\n",
    "def save_agg_model(model):\n",
    "    model.save_weights(\"persistent_storage/agg_model.h5\")\n",
    "    print(\"Model written to storage!\")\n",
    "\n",
    "def model_aggregation():\n",
    "    _, x_test, _, y_test =  process_data()\n",
    "    \n",
    "    models = glob.glob(\"client_models/*.npy\")\n",
    "    arr = []\n",
    "    for i in models:\n",
    "        arr.append(np.load(i))\n",
    "    \n",
    "    if len(arr) == 0:\n",
    "        avg = None\n",
    "    else:\n",
    "        arr = np.array(arr)\n",
    "        avg = np.average(arr, axis=0)\n",
    "        \n",
    "    model = build_model(avg)\n",
    "    evaluate_model(model, x_test, y_test)\n",
    "    save_agg_model(model)"
   ]
  },
  {
   "cell_type": "code",
   "execution_count": 11,
   "id": "15312003",
   "metadata": {},
   "outputs": [
    {
     "name": "stdout",
     "output_type": "stream",
     "text": [
      "10000 test samples\n",
      "Test loss: 2.3109185695648193\n",
      "Test accuracy: 0.0731000006198883\n",
      "Model written to storage!\n"
     ]
    }
   ],
   "source": [
    "model_aggregation()"
   ]
  },
  {
   "cell_type": "code",
   "execution_count": null,
   "id": "335e83fc",
   "metadata": {},
   "outputs": [],
   "source": []
  }
 ],
 "metadata": {
  "kernelspec": {
   "display_name": "Python 3",
   "language": "python",
   "name": "python3"
  },
  "language_info": {
   "codemirror_mode": {
    "name": "ipython",
    "version": 3
   },
   "file_extension": ".py",
   "mimetype": "text/x-python",
   "name": "python",
   "nbconvert_exporter": "python",
   "pygments_lexer": "ipython3",
   "version": "3.8.8"
  },
  "toc": {
   "base_numbering": 1,
   "nav_menu": {},
   "number_sections": true,
   "sideBar": true,
   "skip_h1_title": false,
   "title_cell": "Table of Contents",
   "title_sidebar": "Contents",
   "toc_cell": false,
   "toc_position": {},
   "toc_section_display": true,
   "toc_window_display": false
  }
 },
 "nbformat": 4,
 "nbformat_minor": 5
}
