{
 "cells": [
  {
   "cell_type": "markdown",
   "metadata": {},
   "source": [
    "### Import Libraries"
   ]
  },
  {
   "cell_type": "code",
   "execution_count": 1,
   "metadata": {
    "ExecuteTime": {
     "end_time": "2022-06-25T08:34:16.362134Z",
     "start_time": "2022-06-25T08:34:15.955639Z"
    }
   },
   "outputs": [],
   "source": [
    "from Server_Model import *\n",
    "from flask import Flask, json, request, render_template, session, redirect\n",
    "from flask import send_file\n",
    "from urllib.parse import urlparse\n",
    "import requests\n",
    "from random import randrange\n",
    "from flask import session, url_for"
   ]
  },
  {
   "cell_type": "markdown",
   "metadata": {},
   "source": [
    "### Flask APIs"
   ]
  },
  {
   "cell_type": "code",
   "execution_count": 2,
   "metadata": {},
   "outputs": [],
   "source": [
    "def check_available_clients():\n",
    "    \n",
    "    try:\n",
    "        with open(\"client.list\", \"r\") as f:\n",
    "            client_list = f.read()   \n",
    "    except:\n",
    "        client_list = \"\"\n",
    "        \n",
    "    client_list = client_list.split(\"\\n\")\n",
    "    \n",
    "    available_clients = []\n",
    "    for c in client_list:\n",
    "        r = requests.get(url = \"http://\"+c+'/active_test')\n",
    "    \n",
    "        #print(r, r.status_code, r.reason, r.text)\n",
    "        if r.status_code == 200:\n",
    "            #print(\"yeah\")\n",
    "            available_clients.append(c)\n",
    "            \n",
    "    return available_clients"
   ]
  },
  {
   "cell_type": "code",
   "execution_count": null,
   "metadata": {
    "ExecuteTime": {
     "start_time": "2022-06-25T08:34:15.947Z"
    }
   },
   "outputs": [
    {
     "name": "stdout",
     "output_type": "stream",
     "text": [
      " * Serving Flask app \"__main__\" (lazy loading)\n",
      " * Environment: production\n",
      "   WARNING: This is a development server. Do not use it in a production deployment.\n",
      "   Use a production WSGI server instead.\n",
      " * Debug mode: off\n"
     ]
    },
    {
     "name": "stderr",
     "output_type": "stream",
     "text": [
      " * Running on http://127.0.0.1:10011/ (Press CTRL+C to quit)\n"
     ]
    },
    {
     "name": "stdout",
     "output_type": "stream",
     "text": [
      "10000 test samples\n",
      "['client_models_127.0.0.1_5000_agg_model.npy']\n",
      "client_models_127.0.0.1_5000_agg_model.npy\n"
     ]
    },
    {
     "name": "stderr",
     "output_type": "stream",
     "text": [
      "C:\\Users\\pk15425\\Anaconda3\\lib\\site-packages\\numpy\\core\\_asarray.py:136: VisibleDeprecationWarning: Creating an ndarray from ragged nested sequences (which is a list-or-tuple of lists-or-tuples-or ndarrays with different lengths or shapes) is deprecated. If you meant to do this, you must specify 'dtype=object' when creating the ndarray\n",
      "  return array(a, dtype, copy=False, order=order, subok=True)\n",
      "127.0.0.1 - - [13/Jul/2022 15:36:12] \"\u001b[37mGET /send_weights_to_clients HTTP/1.1\u001b[0m\" 200 -\n"
     ]
    },
    {
     "name": "stdout",
     "output_type": "stream",
     "text": [
      "Test loss: 0.053886134177446365\n",
      "Test accuracy: 0.9825000166893005\n",
      "Model written to storage!\n"
     ]
    },
    {
     "name": "stderr",
     "output_type": "stream",
     "text": [
      "127.0.0.1 - - [13/Jul/2022 15:37:28] \"\u001b[37mPOST /client_model HTTP/1.1\u001b[0m\" 200 -\n"
     ]
    },
    {
     "name": "stdout",
     "output_type": "stream",
     "text": [
      "10000 test samples\n",
      "['client_models_127.0.0.1_5000_agg_model.npy', 'client_models_127.0.0.2_5000_agg_model - Copy.npy']\n",
      "client_models_127.0.0.1_5000_agg_model.npy\n",
      "client_models_127.0.0.2_5000_agg_model - Copy.npy\n"
     ]
    },
    {
     "name": "stderr",
     "output_type": "stream",
     "text": [
      "127.0.0.1 - - [13/Jul/2022 15:38:10] \"\u001b[37mGET /send_weights_to_clients HTTP/1.1\u001b[0m\" 200 -\n"
     ]
    },
    {
     "name": "stdout",
     "output_type": "stream",
     "text": [
      "Test loss: 0.04280697926878929\n",
      "Test accuracy: 0.9865999817848206\n",
      "Model written to storage!\n"
     ]
    }
   ],
   "source": [
    "api = Flask(__name__)\n",
    "\n",
    "\n",
    "@api.route('/', methods=['GET'])\n",
    "def get_landing_page():\n",
    "    \n",
    "    try:\n",
    "        with open(\"client.list\", \"r\") as f:\n",
    "            client_list = f.read()   \n",
    "    except:\n",
    "        client_list = \"\"\n",
    "        \n",
    "    client_list = client_list.split(\"\\n\")\n",
    "    if len(client_list) > 0:\n",
    "        return render_template('ServerLanding.html', list_clients=list(client_list))\n",
    "    return \"No clients\"\n",
    "\n",
    "@api.route('/register', methods=['GET'])\n",
    "def register_client():\n",
    "    \n",
    "    port = request.args.get('port')\n",
    "    url = request.args.get('url')\n",
    "    \n",
    "    try:\n",
    "        with open(\"client.list\", \"r\") as f:\n",
    "            client_list = f.read()   \n",
    "    except:\n",
    "        client_list = \"\"\n",
    "        \n",
    "    client_list = client_list.split(\"\\n\")\n",
    "    client_list.append(url + \":\" + port)\n",
    "    client_list = list(set(client_list))\n",
    "    client_list = '\\n'.join(str(x) for x in client_list)\n",
    "    \n",
    "    with open(\"client.list\", \"w\") as f:\n",
    "        f.write(client_list.strip())\n",
    "    \n",
    "    serverack = {'server_ack': '1'}\n",
    "    return str(serverack)\n",
    "\n",
    "\n",
    "@api.route('/send_weights_to_clients', methods=['GET'])\n",
    "def send_weights_to_clients():\n",
    "    \n",
    "    model_aggregation()\n",
    "    clients = check_available_clients()\n",
    "        \n",
    "    for c in clients:\n",
    "        file = open(\"agg_model.npy\", 'rb')\n",
    "        data = {'fname':'agg_model.npy'}\n",
    "        files = {\n",
    "            'json': ('json_data', json.dumps(data), 'application/json'),\n",
    "            'model': ('agg_model.npy', file, 'application/octet-stream')\n",
    "        }\n",
    "\n",
    "        #print(c+'/downloadmodel')\n",
    "        req = requests.post(url=\"http://\"+c+'/downloadmodel', files=files)\n",
    "        #print(req.status_code)\n",
    "\n",
    "    return \"Aggregated model sent !\"\n",
    "\n",
    "@api.route('/client_model', methods=['POST'])\n",
    "def getmodel():\n",
    "    if request.method == 'POST':\n",
    "        file = request.files['model'].read()\n",
    "        fname = request.files['json'].read()\n",
    "\n",
    "        fname = ast.literal_eval(fname.decode(\"utf-8\"))\n",
    "        cli = fname['url']+'_' + str(fname['port'])\n",
    "        fname = cli +\"_\" + fname['fname']\n",
    "\n",
    "        #print(fname)\n",
    "        wfile = open(\"client_models_\"+fname, 'wb+')\n",
    "        wfile.write(file)\n",
    "        wfile.close()\n",
    "        \n",
    "        return \"Model received!\"\n",
    "    else:\n",
    "        return \"No file received!\"\n",
    "\n",
    "if __name__ == '__main__':\n",
    "    api.secret_key = randrange(100000)\n",
    "    api.config['SESSION_TYPE'] = 'filesystem'\n",
    "    api.config.update(\n",
    "        SESSION_COOKIE_NAME = 'session_server',\n",
    "        SESSION_COOKIE_PATH = '/server/'\n",
    "    )\n",
    "    api.run(port=10011)"
   ]
  }
 ],
 "metadata": {
  "kernelspec": {
   "display_name": "Python 3",
   "language": "python",
   "name": "python3"
  },
  "language_info": {
   "codemirror_mode": {
    "name": "ipython",
    "version": 3
   },
   "file_extension": ".py",
   "mimetype": "text/x-python",
   "name": "python",
   "nbconvert_exporter": "python",
   "pygments_lexer": "ipython3",
   "version": "3.8.8"
  },
  "toc": {
   "base_numbering": 1,
   "nav_menu": {},
   "number_sections": true,
   "sideBar": true,
   "skip_h1_title": false,
   "title_cell": "Table of Contents",
   "title_sidebar": "Contents",
   "toc_cell": false,
   "toc_position": {},
   "toc_section_display": true,
   "toc_window_display": false
  }
 },
 "nbformat": 4,
 "nbformat_minor": 4
}
