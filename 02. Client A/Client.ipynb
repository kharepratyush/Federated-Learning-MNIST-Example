{
 "cells": [
  {
   "cell_type": "code",
   "execution_count": 1,
   "id": "37088d67",
   "metadata": {
    "ExecuteTime": {
     "end_time": "2022-06-24T20:30:23.736391Z",
     "start_time": "2022-06-24T20:30:23.316770Z"
    }
   },
   "outputs": [],
   "source": [
    "from flask import Flask, json, request\n",
    "from urllib.parse import urlparse\n",
    "import requests\n",
    "import ast\n",
    "from Client_Model import *"
   ]
  },
  {
   "cell_type": "code",
   "execution_count": null,
   "id": "f070813f",
   "metadata": {
    "ExecuteTime": {
     "start_time": "2022-06-24T20:30:23.298Z"
    },
    "scrolled": true
   },
   "outputs": [
    {
     "name": "stdout",
     "output_type": "stream",
     "text": [
      " * Serving Flask app \"__main__\" (lazy loading)\n",
      " * Environment: production\n",
      "   WARNING: This is a development server. Do not use it in a production deployment.\n",
      "   Use a production WSGI server instead.\n",
      " * Debug mode: off\n"
     ]
    },
    {
     "name": "stderr",
     "output_type": "stream",
     "text": [
      " * Running on http://127.0.0.1:5000/ (Press CTRL+C to quit)\n",
      "127.0.0.1 - - [13/Jul/2022 15:36:11] \"\u001b[37mGET /active_test HTTP/1.1\u001b[0m\" 200 -\n",
      "127.0.0.1 - - [13/Jul/2022 15:36:12] \"\u001b[37mPOST /downloadmodel HTTP/1.1\u001b[0m\" 200 -\n"
     ]
    },
    {
     "name": "stdout",
     "output_type": "stream",
     "text": [
      "Processing data...\n",
      "10000 test samples\n",
      "Agg weights exists...\n",
      "Loading weights...\n",
      "469/469 [==============================] - 39s 83ms/step - loss: 0.0844 - accuracy: 0.9746 - val_loss: 0.0428 - val_accuracy: 0.9866\n"
     ]
    },
    {
     "name": "stderr",
     "output_type": "stream",
     "text": [
      "C:\\Users\\pk15425\\Anaconda3\\lib\\site-packages\\numpy\\core\\_asarray.py:136: VisibleDeprecationWarning: Creating an ndarray from ragged nested sequences (which is a list-or-tuple of lists-or-tuples-or ndarrays with different lengths or shapes) is deprecated. If you meant to do this, you must specify 'dtype=object' when creating the ndarray\n",
      "  return array(a, dtype, copy=False, order=order, subok=True)\n",
      "127.0.0.1 - - [13/Jul/2022 15:37:28] \"\u001b[37mGET /sendmodel HTTP/1.1\u001b[0m\" 200 -\n"
     ]
    },
    {
     "name": "stdout",
     "output_type": "stream",
     "text": [
      "Test loss: 0.04280697926878929\n",
      "Test accuracy: 0.9865999817848206\n",
      "Local model update written to local storage!\n",
      "Training over\n"
     ]
    },
    {
     "name": "stderr",
     "output_type": "stream",
     "text": [
      "127.0.0.1 - - [13/Jul/2022 15:38:10] \"\u001b[37mGET /active_test HTTP/1.1\u001b[0m\" 200 -\n",
      "127.0.0.1 - - [13/Jul/2022 15:38:10] \"\u001b[37mPOST /downloadmodel HTTP/1.1\u001b[0m\" 200 -\n"
     ]
    }
   ],
   "source": [
    "api = Flask(__name__)\n",
    "from flask import session, url_for, redirect\n",
    "\n",
    "@api.route('/register', methods=['GET'])\n",
    "def register():\n",
    "    \n",
    "    o = urlparse(request.base_url)\n",
    "    PARAMS = {'url':o.hostname, 'port':o.port}\n",
    "    r = requests.get(url = 'http://127.0.0.1:10011/register', params = PARAMS)\n",
    "    \n",
    "    #print(r, r.status_code, r.reason, r.text)\n",
    "    if r.status_code == 200:\n",
    "        return \"Status OK sent !\"\n",
    "    \n",
    "    return \"Failed Status\"\n",
    "\n",
    "@api.route('/active_test', methods=['GET'])\n",
    "def active_test():\n",
    "    ack = {'client_ack': '1'}\n",
    "    return str(ack)\n",
    "\n",
    "@api.route('/downloadmodel', methods=['POST'])\n",
    "def get_agg_model():\n",
    "    if request.method == 'POST':\n",
    "        file = request.files['model'].read()\n",
    "        fname = request.files['json'].read()\n",
    "\n",
    "        fname = ast.literal_eval(fname.decode(\"utf-8\"))\n",
    "        fname = fname['fname']\n",
    "        #print(fname)\n",
    "\n",
    "        wfile = open(fname, 'wb+')\n",
    "        wfile.write(file)\n",
    "\n",
    "        return \"Model received!\"\n",
    "    else:\n",
    "        return \"No file received!\"\n",
    "    \n",
    "@api.route('/sendmodel', methods=['GET'])\n",
    "def send_model():\n",
    "    client_train()\n",
    "    print(\"Training over\")\n",
    "    file = open(\"agg_model.npy\", 'rb')\n",
    "\n",
    "    o = urlparse(request.base_url)\n",
    "    data = {'fname':'agg_model.npy', 'url':o.hostname, 'port':o.port}\n",
    "    files = {\n",
    "        'json': ('json_data', json.dumps(data), 'application/json'),\n",
    "        'model': ('agg_model.npy', file, 'application/octet-stream')\n",
    "    }\n",
    "\n",
    "    req = requests.post(url='http://127.0.0.1:10011/client_model', files=files)\n",
    "    return \"Model sent !\"\n",
    "    \n",
    "if __name__ == '__main__':\n",
    "    api.secret_key = '2458867997' ##set to random\n",
    "    api.config['SESSION_TYPE'] = 'filesystem'\n",
    "    api.run()"
   ]
  },
  {
   "cell_type": "code",
   "execution_count": null,
   "id": "74009725",
   "metadata": {
    "ExecuteTime": {
     "start_time": "2022-06-24T20:30:23.298Z"
    }
   },
   "outputs": [],
   "source": []
  }
 ],
 "metadata": {
  "kernelspec": {
   "display_name": "Python 3",
   "language": "python",
   "name": "python3"
  },
  "language_info": {
   "codemirror_mode": {
    "name": "ipython",
    "version": 3
   },
   "file_extension": ".py",
   "mimetype": "text/x-python",
   "name": "python",
   "nbconvert_exporter": "python",
   "pygments_lexer": "ipython3",
   "version": "3.8.8"
  },
  "toc": {
   "base_numbering": 1,
   "nav_menu": {},
   "number_sections": true,
   "sideBar": true,
   "skip_h1_title": false,
   "title_cell": "Table of Contents",
   "title_sidebar": "Contents",
   "toc_cell": false,
   "toc_position": {},
   "toc_section_display": true,
   "toc_window_display": false
  }
 },
 "nbformat": 4,
 "nbformat_minor": 5
}
